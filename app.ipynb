{
 "cells": [
  {
   "cell_type": "code",
   "execution_count": null,
   "metadata": {
    "ExecuteTime": {
     "start_time": "2021-03-09T09:32:15.895Z"
    }
   },
   "outputs": [
    {
     "name": "stdout",
     "output_type": "stream",
     "text": [
      " * Serving Flask app \"__main__\" (lazy loading)\n",
      " * Environment: production\n",
      "\u001b[31m   WARNING: This is a development server. Do not use it in a production deployment.\u001b[0m\n",
      "\u001b[2m   Use a production WSGI server instead.\u001b[0m\n",
      " * Debug mode: off\n"
     ]
    },
    {
     "name": "stderr",
     "output_type": "stream",
     "text": [
      " * Running on http://0.0.0.0:81/ (Press CTRL+C to quit)\n",
      "127.0.0.1 - - [09/Mar/2021 17:32:30] \"\u001b[37mPOST /predict HTTP/1.1\u001b[0m\" 200 -\n"
     ]
    }
   ],
   "source": [
    "#!/usr/bin/env python\n",
    "# coding: utf-8\n",
    "\n",
    "# In[2]:\n",
    "\n",
    "\n",
    "import numpy as np\n",
    "from flask import Flask, request, jsonify, render_template\n",
    "import pickle\n",
    "import traceback\n",
    "\n",
    "\n",
    "# In[23]:\n",
    "\n",
    "\n",
    "# load model \n",
    "\n",
    "\n",
    "\n",
    "# In[24]:\n",
    "\n",
    "\n",
    "# define model prediction function\n",
    "\n",
    "import numpy as np\n",
    "import pandas as pd\n",
    "import sys\n",
    "from sklearn.impute import SimpleImputer\n",
    "from sklearn.preprocessing import StandardScaler\n",
    "\n",
    "\n",
    "\n",
    "# In[28]:\n",
    "model2 = True # should read from model file \n",
    "\n",
    "app = Flask(__name__)\n",
    "\n",
    "@app.route('/predict', methods=['POST']) # Create http://host:port/predict POST end point\n",
    "\n",
    "def predict():\n",
    "    if model2:\n",
    "        try:\n",
    "            json_ = request.json #capture the json from POST\n",
    "            query = pd.read_json(json_, orient='records')  \n",
    "            prediction = query \n",
    "\n",
    "            #return jsonify({'prediction': [int(x) for x in prediction]})\n",
    "            return prediction.to_json(orient=\"records\")\n",
    "        \n",
    "\n",
    "        except Exception as e:\n",
    "\n",
    "            return jsonify({'error': str(e), 'trace': traceback.format_exc()})\n",
    "    else:\n",
    "        print('train first')\n",
    "        return 'no model here'\n",
    "    \n",
    "if __name__ == \"__main__\":\n",
    "    #app.run(debug=True)\n",
    "    app.run(host='0.0.0.0', port=81, debug=False)\n",
    "\n",
    "\n"
   ]
  },
  {
   "cell_type": "code",
   "execution_count": null,
   "metadata": {},
   "outputs": [],
   "source": []
  }
 ],
 "metadata": {
  "kernelspec": {
   "display_name": "Python 3",
   "language": "python",
   "name": "python3"
  },
  "language_info": {
   "codemirror_mode": {
    "name": "ipython",
    "version": 3
   },
   "file_extension": ".py",
   "mimetype": "text/x-python",
   "name": "python",
   "nbconvert_exporter": "python",
   "pygments_lexer": "ipython3",
   "version": "3.7.5"
  },
  "toc": {
   "base_numbering": 1,
   "nav_menu": {},
   "number_sections": true,
   "sideBar": true,
   "skip_h1_title": false,
   "title_cell": "Table of Contents",
   "title_sidebar": "Contents",
   "toc_cell": false,
   "toc_position": {},
   "toc_section_display": true,
   "toc_window_display": false
  }
 },
 "nbformat": 4,
 "nbformat_minor": 2
}
